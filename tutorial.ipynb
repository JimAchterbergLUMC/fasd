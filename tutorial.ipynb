{
 "cells": [
  {
   "cell_type": "markdown",
   "id": "43f8a2d9",
   "metadata": {},
   "source": [
    "## Import packages"
   ]
  },
  {
   "cell_type": "code",
   "execution_count": 1,
   "id": "b05bb6d5",
   "metadata": {},
   "outputs": [],
   "source": [
    "from sklearn.datasets import load_breast_cancer\n",
    "from sklearn.model_selection import train_test_split\n",
    "from sklearn.metrics import roc_auc_score\n",
    "import pandas as pd\n",
    "from sklearn.ensemble import HistGradientBoostingClassifier\n",
    "\n",
    "from fasd.utils import set_seed\n",
    "from fasd import TabularFASD\n",
    "\n",
    "seed = 123\n",
    "set_seed(seed)"
   ]
  },
  {
   "cell_type": "markdown",
   "id": "9eadb744",
   "metadata": {},
   "source": [
    "## Load data"
   ]
  },
  {
   "cell_type": "code",
   "execution_count": 2,
   "id": "933fe6da",
   "metadata": {},
   "outputs": [],
   "source": [
    "X, y = load_breast_cancer(return_X_y=True, as_frame=True)\n",
    "target_col = y.name\n",
    "X = pd.concat((X, y), axis=1)"
   ]
  },
  {
   "cell_type": "markdown",
   "id": "2c4e3a70",
   "metadata": {},
   "source": [
    "## Generate synthetic data"
   ]
  },
  {
   "cell_type": "code",
   "execution_count": null,
   "id": "75f6bb00",
   "metadata": {},
   "outputs": [
    {
     "name": "stderr",
     "output_type": "stream",
     "text": [
      "100%|██████████| 100/100 [00:00<00:00, 148.81it/s]\n",
      "100%|██████████| 100/100 [00:03<00:00, 30.59it/s]\n",
      "100%|██████████| 100/100 [00:00<00:00, 148.90it/s]\n"
     ]
    }
   ],
   "source": [
    "generator = TabularFASD(\n",
    "    target_column=target_col,\n",
    "    representation_dim=100,\n",
    "    predictor_hidden_layers=[],\n",
    "    predictor_nonlin=\"relu\",\n",
    "    representations_nonlin=\"tanh\",\n",
    "    predictor_dropout=0,\n",
    "    decoder_hidden_layers=[100],\n",
    "    decoder_nonlin=\"relu\",\n",
    "    decoder_dropout=0,\n",
    "    vae_encoder_hidden_layers=[128],\n",
    "    vae_encoder_nonlin=\"relu\",\n",
    "    vae_encoder_dropout=0,\n",
    "    vae_decoder_hidden_layers=[128],\n",
    "    vae_decoder_nonlin=\"relu\",\n",
    "    vae_decoder_dropout=0,\n",
    "    vae_embedding_size=128,\n",
    "    random_state=seed,\n",
    ")\n",
    "generator.fit(X)\n",
    "syn = generator.generate(len(X))"
   ]
  },
  {
   "cell_type": "markdown",
   "id": "469cd7ee",
   "metadata": {},
   "source": [
    "## Evaluate Machine Learning Efficacy"
   ]
  },
  {
   "cell_type": "code",
   "execution_count": 4,
   "id": "3c4ee0f0",
   "metadata": {},
   "outputs": [
    {
     "name": "stdout",
     "output_type": "stream",
     "text": [
      "Train Real Test Real ROCAUC: 0.9981016355140186\n",
      "Train Synthetic Test Real ROCAUC: 0.9668516355140186\n"
     ]
    }
   ],
   "source": [
    "yy = X[target_col].copy()\n",
    "xx = X.drop(target_col, axis=1)\n",
    "y_syn = syn[target_col].copy()\n",
    "X_syn = syn.drop(target_col, axis=1)\n",
    "\n",
    "X_tr, X_te, y_tr, y_te = train_test_split(\n",
    "    xx, yy, stratify=yy, train_size=0.7, random_state=seed\n",
    ")\n",
    "X_syn_tr, X_syn_te, y_syn_tr, y_syn_te = train_test_split(\n",
    "    X_syn, y_syn, stratify=y_syn, train_size=0.7, random_state=seed\n",
    ")\n",
    "\n",
    "model = HistGradientBoostingClassifier(max_depth=3)\n",
    "model.fit(X_tr, y_tr)\n",
    "preds = model.predict_proba(X_te)[:, 1]\n",
    "score = roc_auc_score(y_te, preds)\n",
    "print(f\"Train Real Test Real ROCAUC: {score}\")\n",
    "\n",
    "model = HistGradientBoostingClassifier(max_depth=3)\n",
    "model.fit(X_syn_tr, y_syn_tr)\n",
    "preds = model.predict_proba(X_te)[:, 1]\n",
    "score = roc_auc_score(y_te, preds)\n",
    "print(f\"Train Synthetic Test Real ROCAUC: {score}\")"
   ]
  }
 ],
 "metadata": {
  "kernelspec": {
   "display_name": "Python 3",
   "language": "python",
   "name": "python3"
  },
  "language_info": {
   "codemirror_mode": {
    "name": "ipython",
    "version": 3
   },
   "file_extension": ".py",
   "mimetype": "text/x-python",
   "name": "python",
   "nbconvert_exporter": "python",
   "pygments_lexer": "ipython3",
   "version": "3.10.16"
  }
 },
 "nbformat": 4,
 "nbformat_minor": 5
}

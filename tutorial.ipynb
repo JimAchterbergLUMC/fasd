{
 "cells": [
  {
   "cell_type": "markdown",
   "id": "43f8a2d9",
   "metadata": {},
   "source": [
    "## Import packages"
   ]
  },
  {
   "cell_type": "code",
   "execution_count": null,
   "id": "b05bb6d5",
   "metadata": {},
   "outputs": [],
   "source": [
    "from sklearn.datasets import load_breast_cancer\n",
    "from sklearn.model_selection import train_test_split\n",
    "from sklearn.metrics import roc_auc_score\n",
    "from sklearn.ensemble import HistGradientBoostingClassifier\n",
    "from matplotlib import pyplot as plt\n",
    "import numpy as np\n",
    "import pandas as pd\n",
    "\n",
    "from fasd.utils import set_seed\n",
    "from fasd import TabularFASD\n",
    "\n",
    "seed = 123\n",
    "set_seed(seed)"
   ]
  },
  {
   "cell_type": "markdown",
   "id": "2c4e3a70",
   "metadata": {},
   "source": [
    "## Generate synthetic data"
   ]
  },
  {
   "cell_type": "code",
   "execution_count": null,
   "id": "75f6bb00",
   "metadata": {},
   "outputs": [],
   "source": [
    "X = load_breast_cancer(as_frame=True).frame\n",
    "generator = TabularFASD(target_column=\"target\", random_state=seed)\n",
    "generator.fit(X)\n",
    "syn = generator.generate(len(X))"
   ]
  },
  {
   "cell_type": "markdown",
   "id": "469cd7ee",
   "metadata": {},
   "source": [
    "## Evaluate Machine Learning Efficacy"
   ]
  },
  {
   "cell_type": "code",
   "execution_count": null,
   "id": "3c4ee0f0",
   "metadata": {},
   "outputs": [],
   "source": [
    "yy = X[\"target\"].copy()\n",
    "xx = X.drop(\"target\", axis=1)\n",
    "y_syn = syn[\"target\"].copy()\n",
    "X_syn = syn.drop(\"target\", axis=1)\n",
    "\n",
    "X_tr, X_te, y_tr, y_te = train_test_split(\n",
    "    xx, yy, stratify=yy, train_size=0.7, random_state=seed\n",
    ")\n",
    "X_syn_tr, X_syn_te, y_syn_tr, y_syn_te = train_test_split(\n",
    "    X_syn, y_syn, stratify=y_syn, train_size=0.7, random_state=seed\n",
    ")\n",
    "\n",
    "model = HistGradientBoostingClassifier(max_depth=3)\n",
    "model.fit(X_tr, y_tr)\n",
    "preds = model.predict_proba(X_te)[:, 1]\n",
    "score = roc_auc_score(y_te, preds)\n",
    "print(f\"Train Real Test Real ROCAUC: {score}\")\n",
    "\n",
    "model = HistGradientBoostingClassifier(max_depth=3)\n",
    "model.fit(X_syn_tr, y_syn_tr)\n",
    "preds = model.predict_proba(X_te)[:, 1]\n",
    "score = roc_auc_score(y_te, preds)\n",
    "print(f\"Train Synthetic Test Real ROCAUC: {score}\")"
   ]
  },
  {
   "cell_type": "markdown",
   "id": "a2f3bb18",
   "metadata": {},
   "source": [
    "# Plot Feature Distributions\n",
    "Here we see that even though feature distributions are not retained very well (poor fidelity), task-specific utility is high as seen from ML efficacy above. This is the exact purpose of FASD."
   ]
  },
  {
   "cell_type": "code",
   "execution_count": null,
   "id": "769456da",
   "metadata": {},
   "outputs": [],
   "source": [
    "%matplotlib inline\n",
    "\n",
    "fig, axes = plt.subplots(7,5,figsize=(28,15))\n",
    "axes = axes.flatten()  \n",
    "\n",
    "for i, col in enumerate(X.columns):\n",
    "    ax = axes[i]\n",
    "    bins = np.histogram_bin_edges(pd.concat((X[col],syn[col])).astype(float), bins='auto')\n",
    "    ax.hist(X[col], bins=bins, alpha=0.5)\n",
    "    ax.hist(syn[col], bins=bins, alpha=0.5)\n",
    "    ax.set_title(col, fontsize=10)\n",
    "    ax.tick_params(labelsize=8)\n",
    "\n",
    "for j in range(i + 1, len(axes)):\n",
    "    axes[j].axis('off')\n",
    "\n",
    "plt.tight_layout()\n",
    "plt.show()"
   ]
  }
 ],
 "metadata": {
  "kernelspec": {
   "display_name": "Python 3",
   "language": "python",
   "name": "python3"
  },
  "language_info": {
   "codemirror_mode": {
    "name": "ipython",
    "version": 3
   },
   "file_extension": ".py",
   "mimetype": "text/x-python",
   "name": "python",
   "nbconvert_exporter": "python",
   "pygments_lexer": "ipython3",
   "version": "3.10.16"
  }
 },
 "nbformat": 4,
 "nbformat_minor": 5
}
